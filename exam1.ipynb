{
  "cells": [
    {
      "cell_type": "markdown",
      "metadata": {
        "colab_type": "text",
        "id": "view-in-github"
      },
      "source": [
        "<a href=\"https://colab.research.google.com/github/robitussin/CCDATRCL_EXAM/blob/main/exam1.ipynb\" target=\"_parent\"><img src=\"https://colab.research.google.com/assets/colab-badge.svg\" alt=\"Open In Colab\"/></a>"
      ]
    },
    {
      "cell_type": "markdown",
      "metadata": {
        "id": "yaz2B0KGFehP"
      },
      "source": [
        "# Midterm Exam 💛💙"
      ]
    },
    {
      "cell_type": "markdown",
      "metadata": {
        "id": "_DmK1ONEFehQ"
      },
      "source": [
        "**Instructions** ❗️❗️\n",
        "\n",
        "❌ Do not remove or modify the notebook **sections**, **subsections**, **exam questions** or **any text** in this python notebook\n",
        "\n",
        "✔️ Put your answer in the designated cells below each question"
      ]
    },
    {
      "cell_type": "markdown",
      "metadata": {
        "id": "TMCAXKWCFehR"
      },
      "source": [
        "## Search"
      ]
    },
    {
      "cell_type": "code",
      "execution_count": 588,
      "metadata": {
        "id": "Fy8nEBRRFehR"
      },
      "outputs": [],
      "source": [
        "def linearSearch(my_list, number):\n",
        "\n",
        "    index = 0\n",
        "\n",
        "    for i in my_list:\n",
        "\n",
        "        if my_list[index] == number:\n",
        "            return index\n",
        "\n",
        "        index = index + 1\n",
        "\n",
        "    return -1"
      ]
    },
    {
      "cell_type": "markdown",
      "metadata": {
        "id": "AjAevpueFehS"
      },
      "source": [
        "1. Using **linear search**, write a `findLargestIncrease()` function to find the largest increase in value between two adjacent numbers in your student number `(10 points)`\n",
        "\n",
        "    **Example:**\n",
        "\n",
        "    student_number = [2,0,2,2,6,2,5,1,9,3]\n",
        "\n",
        "    **Expected Output:**\n",
        "\n",
        "    findLargestIncrease(student_number)\n",
        "\n",
        "    Output: Between 1 and 9\n",
        "\n",
        "    **Explanation:**\n",
        "\n",
        "    From this student_number, the largest increase happened from number 1 to number 9"
      ]
    },
    {
      "cell_type": "code",
      "execution_count": 589,
      "metadata": {
        "id": "JE8nEfyJFehS"
      },
      "outputs": [],
      "source": [
        "# put your answer here\n",
        "\n",
        "student_number = [2,0,2,2,1,0,4,0,1,9]\n",
        "\n",
        "def findLargestIncrease(student_number):\n",
        "    if len(student_number) < 2:\n",
        "        return \"Not enough elements to find an increase.\"\n",
        "\n",
        "    max_increase = float('-inf')\n",
        "    start_index = -1\n",
        "    end_index = -1\n",
        "\n",
        "    for i in range(len(student_number) - 1):\n",
        "        current_increase = student_number[i + 1] - student_number[i]\n",
        "        if current_increase > max_increase:\n",
        "            max_increase = current_increase\n",
        "            start_index = i\n",
        "            end_index = i + 1\n",
        "\n",
        "    if start_index != -1 and end_index != -1:\n",
        "        return f\"Between {student_number[start_index]} and {student_number[end_index]}\"\n",
        "    else:\n",
        "        return \"No increase found.\"\n"
      ]
    },
    {
      "cell_type": "code",
      "execution_count": 590,
      "metadata": {},
      "outputs": [
        {
          "name": "stdout",
          "output_type": "stream",
          "text": [
            "Output: Between 1 and 9\n"
          ]
        }
      ],
      "source": [
        "result = findLargestIncrease(student_number)\n",
        "print(\"Output:\", result)"
      ]
    },
    {
      "cell_type": "markdown",
      "metadata": {
        "id": "nMyr1fNyFehS"
      },
      "source": [
        "2. Using **linear search**, write a `findLargestDecrease()` function to find the largest decrease in value between two adjacent numbers in your student number `(10 points)`\n",
        "\n",
        "    **Example:**\n",
        "\n",
        "    student_number = [2,0,2,2,6,2,5,1,9,3]\n",
        "\n",
        "    **Expected Output:**\n",
        "\n",
        "    findLargestDecrease(student_number)\n",
        "\n",
        "    Output: Between 9 and 3\n",
        "\n",
        "    **Explanation:**\n",
        "\n",
        "    From this student_number, the largest decrease happened from number 9 to number 3"
      ]
    },
    {
      "cell_type": "code",
      "execution_count": 591,
      "metadata": {
        "id": "bfMfQVbVFehS"
      },
      "outputs": [],
      "source": [
        "# put your answer here\n",
        "def findLargestDecrease(student_number):\n",
        "    if len(student_number) < 2:\n",
        "        return \"Not enough elements to find a decrease.\"\n",
        "\n",
        "    max_decrease = float('inf')\n",
        "    start_index = -1\n",
        "    end_index = -1\n",
        "\n",
        "    for i in range(len(student_number) - 1):\n",
        "        current_decrease = student_number[i + 1] - student_number[i]\n",
        "        if current_decrease < max_decrease:\n",
        "            max_decrease = current_decrease\n",
        "            start_index = i\n",
        "            end_index = i + 1\n",
        "\n",
        "    if start_index != -1 and end_index != -1:\n",
        "        return f\"Between {student_number[start_index]} and {student_number[end_index]}\"\n",
        "    else:\n",
        "        return \"No decrease found.\"\n"
      ]
    },
    {
      "cell_type": "code",
      "execution_count": 592,
      "metadata": {},
      "outputs": [
        {
          "name": "stdout",
          "output_type": "stream",
          "text": [
            "Output: Between 4 and 0\n"
          ]
        }
      ],
      "source": [
        "result = findLargestDecrease(student_number)\n",
        "print(\"Output:\", result)"
      ]
    },
    {
      "cell_type": "markdown",
      "metadata": {
        "id": "NtKSQn9QFehS"
      },
      "source": [
        "## Linked List"
      ]
    },
    {
      "cell_type": "code",
      "execution_count": 593,
      "metadata": {
        "id": "0HP5zyJcFehS"
      },
      "outputs": [],
      "source": [
        "class Node:\n",
        "\n",
        "    def __init__(self, data):\n",
        "        self.data = data\n",
        "        self.next = None  # null"
      ]
    },
    {
      "cell_type": "code",
      "execution_count": 594,
      "metadata": {
        "id": "A-8Uefe7FehS"
      },
      "outputs": [],
      "source": [
        "class LinkedList:\n",
        "\n",
        "    def __init__(self):\n",
        "        self.head = None\n",
        "\n",
        "    def traverse(self, node):\n",
        "        while node:\n",
        "            print(node.data, end=\" -> \")\n",
        "            node = node.next\n"
      ]
    },
    {
      "cell_type": "markdown",
      "metadata": {
        "id": "uPgIJJuSFehT"
      },
      "source": [
        "**Instructions** ❗️❗️\n",
        "\n",
        "Use the pre-defined linked list class/functions to create a linked list"
      ]
    },
    {
      "cell_type": "markdown",
      "metadata": {
        "id": "WIwpW7Q2FehT"
      },
      "source": [
        "1. Create a Singly linked list named **num_list** and print all of its elements. `(5 points)`\n",
        "\n",
        "- **num_list** should contain all digits of your student number.\n",
        "\n",
        "    **Expected Output:**\n",
        "\n",
        "    print(num_list)\n",
        "\n",
        "    [2, 0, 2, 2, 1, 2, 3, 4, 5, 6]"
      ]
    },
    {
      "cell_type": "code",
      "execution_count": 595,
      "metadata": {
        "id": "Lihv0JPiFehT"
      },
      "outputs": [
        {
          "name": "stdout",
          "output_type": "stream",
          "text": [
            "2 -> 0 -> 2 -> 2 -> 1 -> 0 -> 4 -> 0 -> 1 -> 9 -> "
          ]
        }
      ],
      "source": [
        "# put your answer here\n",
        "# student_number = [2,0,2,2,1,0,4,0,1,9]\n",
        "\n",
        "def number_list(student_number):\n",
        "    num_list = LinkedList()\n",
        "\n",
        "    for number in student_number:\n",
        "        new_node = Node(number)\n",
        "        if num_list.head is None:\n",
        "            num_list.head = new_node\n",
        "        else:\n",
        "            current = num_list.head\n",
        "            while current.next is not None:\n",
        "                current = current.next\n",
        "            current.next = new_node\n",
        "\n",
        "    return num_list\n",
        "\n",
        "num_list = number_list(student_number)\n",
        "\n",
        "num_list.traverse(num_list.head)"
      ]
    },
    {
      "cell_type": "markdown",
      "metadata": {
        "id": "dqA2UYrYFehT"
      },
      "source": [
        "2. Write a `hasPrime()` function to test whether a prime number is in the last six digits of **num_list**. `(5 points)`\n",
        "\n",
        "- If a prime number is in the last six digits of **num_list**, the method should return **true**\n",
        "\n",
        "- If a prime number is not in the last six digits of **num_list**, the method should return **false**\n",
        "\n",
        "    **Expected Output:**\n",
        "\n",
        "    hasPrime(num_list)\n",
        "\n",
        "    True"
      ]
    },
    {
      "cell_type": "code",
      "execution_count": 596,
      "metadata": {
        "id": "GYwsQNz5FehT"
      },
      "outputs": [],
      "source": [
        "# put your answer here\n",
        "\n",
        "def hasPrime(num_list):\n",
        "    def isPrime(num):\n",
        "        if num == 2 or num == 3:\n",
        "            return True\n",
        "        if num % 2 == 0 or num < 2:\n",
        "            return False\n",
        "        for n in range(3, int(num**0.5) + 1, 2):\n",
        "            if num % n == 0:\n",
        "                return False\n",
        "            return True\n",
        "        \n",
        "    current = num_list.head\n",
        "    count = 0\n",
        "    \n",
        "    while current is not None:\n",
        "        if count >= 4:\n",
        "            if isPrime(current.data):\n",
        "                return True\n",
        "        current = current.next\n",
        "        count += 1\n",
        "    return False\n",
        "    "
      ]
    },
    {
      "cell_type": "code",
      "execution_count": 597,
      "metadata": {},
      "outputs": [
        {
          "name": "stdout",
          "output_type": "stream",
          "text": [
            "False\n"
          ]
        }
      ],
      "source": [
        "result = hasPrime(num_list)\n",
        "print(result)"
      ]
    },
    {
      "cell_type": "markdown",
      "metadata": {
        "id": "5Qb0BOiwFehT"
      },
      "source": [
        "3. Write a `removeZeroes()` function to remove all occurrences of zeroes in **num_list**. `(5 points)`\n",
        "\n",
        "- If a zero is in **num_list**, return **num_list**\n",
        "\n",
        "- If there are no zeroes in **num_list**, return **\"no zeros found\"**\n",
        "\n",
        "    **Expected Output:**\n",
        "\n",
        "    removeZeroes(num_list)\n",
        "\n",
        "    [2, 2, 1, 2, 3, 4, 5, 6]"
      ]
    },
    {
      "cell_type": "code",
      "execution_count": 598,
      "metadata": {
        "id": "k1vAHUYuFehT"
      },
      "outputs": [],
      "source": [
        "# put your answer here\n",
        "\n",
        "def removeZeroes(num_list):\n",
        "    current = num_list.head\n",
        "    prev = None\n",
        "    zeros_found = False \n",
        "\n",
        "    while current is not None:\n",
        "        if current.data == 0:\n",
        "            if prev is None:\n",
        "                num_list.head = current.next\n",
        "            else:\n",
        "                prev.next = current.next\n",
        "            current = current.next\n",
        "            zeros_found = True\n",
        "        else:\n",
        "            prev = current\n",
        "            current = current.next\n",
        "\n",
        "    if zeros_found:\n",
        "        return num_list\n",
        "    else:\n",
        "        return \"no zeros found\""
      ]
    },
    {
      "cell_type": "code",
      "execution_count": 599,
      "metadata": {},
      "outputs": [
        {
          "name": "stdout",
          "output_type": "stream",
          "text": [
            "2 -> 2 -> 2 -> 1 -> 4 -> 1 -> 9 -> "
          ]
        }
      ],
      "source": [
        "result1 = removeZeroes(num_list)\n",
        "\n",
        "if result1 != \"no zeros found\":\n",
        "    num_list.traverse(result1.head)\n",
        "else:\n",
        "    print(result1)"
      ]
    },
    {
      "cell_type": "markdown",
      "metadata": {
        "id": "SKAlpglNFehT"
      },
      "source": [
        "4. Insert a dash symbol between the 4th and 5th digit in **num_list**. `(5 points)`\n",
        "\n",
        "    **Expected Output:**\n",
        "\n",
        "    print(num_list)\n",
        "\n",
        "    [2, 0, 2, 2, \"-\", 1, 2, 3, 4, 5, 6]"
      ]
    },
    {
      "cell_type": "code",
      "execution_count": 600,
      "metadata": {
        "id": "vF7fimZ-FehT"
      },
      "outputs": [],
      "source": [
        "# put your answer here\n",
        "num_list = number_list(student_number)\n",
        "\n",
        "def insertDash(num_list):\n",
        "    current = num_list.head\n",
        "    count = 0\n",
        "\n",
        "    while current is not None:\n",
        "        count += 1\n",
        "        if count == 4:\n",
        "            new_node = Node(\"-\")\n",
        "            new_node.next = current.next\n",
        "            current.next = new_node\n",
        "            break\n",
        "\n",
        "        current = current.next"
      ]
    },
    {
      "cell_type": "code",
      "execution_count": 601,
      "metadata": {},
      "outputs": [
        {
          "name": "stdout",
          "output_type": "stream",
          "text": [
            "2 -> 0 -> 2 -> 2 -> - -> 1 -> 0 -> 4 -> 0 -> 1 -> 9 -> "
          ]
        }
      ],
      "source": [
        "insertDash(num_list)\n",
        "num_list.traverse(num_list.head)"
      ]
    },
    {
      "cell_type": "markdown",
      "metadata": {
        "id": "KkC-LgdxFehT"
      },
      "source": [
        "## Stack"
      ]
    },
    {
      "cell_type": "code",
      "execution_count": 602,
      "metadata": {
        "id": "UYTqB1u_FehU"
      },
      "outputs": [],
      "source": [
        "# Creating a stack\n",
        "def create_stack():\n",
        "    stack = []\n",
        "    return stack\n",
        "\n",
        "\n",
        "def print_stack(stack):\n",
        "\n",
        "    if (check_empty(stack)):\n",
        "        return \"stack is empty\"\n",
        "\n",
        "    # Create a copy of the stack and reverse the elements\n",
        "    tempStack = stack.copy()\n",
        "    tempStack.reverse()\n",
        "\n",
        "    # Print all elements using a loop\n",
        "    for i in tempStack:\n",
        "        print(i)\n",
        "\n",
        "    # Delete the copy to free up memory\n",
        "    del tempStack\n",
        "\n",
        "# Creating an empty stack\n",
        "\n",
        "\n",
        "def check_empty(stack):\n",
        "    return len(stack) == 0\n",
        "\n",
        "\n",
        "# Adding items into the stack\n",
        "def push(stack, item):\n",
        "    stack.append(item)\n",
        "    print(\"pushed item: \" + item)\n",
        "\n",
        "\n",
        "# Removing an element from the stack\n",
        "def pop(stack):\n",
        "    if (check_empty(stack)):\n",
        "        return \"stack is empty\"\n",
        "\n",
        "    return stack.pop()\n",
        "\n",
        "\n",
        "def peek(stack):\n",
        "\n",
        "    # Use negative indexing to display the last element of the list\n",
        "    print(stack[-1])"
      ]
    },
    {
      "cell_type": "markdown",
      "metadata": {
        "id": "wLAQchs8FehU"
      },
      "source": [
        "**Instructions** ❗️❗️\n",
        "\n",
        "Use the pre-defined stack class/functions to create a stack"
      ]
    },
    {
      "cell_type": "markdown",
      "metadata": {
        "id": "37cg9BoCFehU"
      },
      "source": [
        "1. Create two (2) stacks named **name_stack** and **num_stack** `(5 points)`\n",
        "\n",
        "- **name_stack** should contain all letters of your first name.\n",
        "- **num_stack** should contain all digits of your student number.\n",
        "\n",
        "    **Expected Output:**\n",
        "\n",
        "    print(name_stack)\n",
        "\n",
        "    ['E', 'L', 'I', 'Z', 'E', 'R']\n",
        "\n",
        "    print(num_stack)\n",
        "\n",
        "    [2,0,2,2,1,2,3,4,5,6]"
      ]
    },
    {
      "cell_type": "code",
      "execution_count": 603,
      "metadata": {
        "id": "HlUIUQzQFehU"
      },
      "outputs": [
        {
          "name": "stdout",
          "output_type": "stream",
          "text": [
            "pushed item: C\n",
            "pushed item: R\n",
            "pushed item: I\n",
            "pushed item: S\n",
            "pushed item: T\n",
            "pushed item: I\n",
            "pushed item: A\n",
            "pushed item: N\n",
            "pushed item: 2\n",
            "pushed item: 0\n",
            "pushed item: 2\n",
            "pushed item: 2\n",
            "pushed item: 1\n",
            "pushed item: 0\n",
            "pushed item: 4\n",
            "pushed item: 0\n",
            "pushed item: 1\n",
            "pushed item: 9\n"
          ]
        }
      ],
      "source": [
        "name_stack = create_stack()\n",
        "num_stack = create_stack()\n",
        "\n",
        "my_name = \"CRISTIAN\"\n",
        "\n",
        "for i in range(len(my_name)):\n",
        "    push(name_stack, my_name[i])\n",
        "\n",
        "for i in range(len(student_number)):\n",
        "    push(num_stack, str(student_number[i]))"
      ]
    },
    {
      "cell_type": "code",
      "execution_count": 604,
      "metadata": {},
      "outputs": [
        {
          "name": "stdout",
          "output_type": "stream",
          "text": [
            "N\n",
            "A\n",
            "I\n",
            "T\n",
            "S\n",
            "I\n",
            "R\n",
            "C\n",
            "\n",
            "9\n",
            "1\n",
            "0\n",
            "4\n",
            "0\n",
            "1\n",
            "2\n",
            "2\n",
            "0\n",
            "2\n"
          ]
        }
      ],
      "source": [
        "print_stack(name_stack)\n",
        "print()\n",
        "print_stack(num_stack)"
      ]
    },
    {
      "cell_type": "markdown",
      "metadata": {
        "id": "8cySe9LXFehU"
      },
      "source": [
        "2. Create a stack named **my_stack** that follows the following format: `(5 points)`\n",
        "\n",
        "- The first element should be the **5th digit in your student number**\n",
        "- The succeeding elements should be the letters of your **first name**\n",
        "- The last element should be the **last digit of your student number**\n",
        "\n",
        "    **Expected Output:**\n",
        "\n",
        "    my_stack = [1, E, L, I, Z, E, R, 6]"
      ]
    },
    {
      "cell_type": "code",
      "execution_count": 605,
      "metadata": {
        "id": "bEnCoAhjFehU"
      },
      "outputs": [
        {
          "name": "stdout",
          "output_type": "stream",
          "text": [
            "pushed item: 1\n",
            "pushed item: C\n",
            "pushed item: R\n",
            "pushed item: I\n",
            "pushed item: S\n",
            "pushed item: T\n",
            "pushed item: I\n",
            "pushed item: A\n",
            "pushed item: N\n",
            "pushed item: 9\n"
          ]
        }
      ],
      "source": [
        "# put your answer here\n",
        "my_stack = create_stack()\n",
        "\n",
        "push(my_stack, str(1))\n",
        "push(my_stack, 'C')\n",
        "push(my_stack, 'R')\n",
        "push(my_stack, 'I')\n",
        "push(my_stack, 'S')\n",
        "push(my_stack, 'T')\n",
        "push(my_stack, 'I')\n",
        "push(my_stack, 'A')\n",
        "push(my_stack, 'N')\n",
        "push(my_stack, str(9))\n"
      ]
    },
    {
      "cell_type": "code",
      "execution_count": 606,
      "metadata": {},
      "outputs": [
        {
          "name": "stdout",
          "output_type": "stream",
          "text": [
            "9\n",
            "N\n",
            "A\n",
            "I\n",
            "T\n",
            "S\n",
            "I\n",
            "R\n",
            "C\n",
            "1\n"
          ]
        }
      ],
      "source": [
        "print_stack(my_stack)"
      ]
    },
    {
      "cell_type": "markdown",
      "metadata": {
        "id": "8a8_KP5nFehU"
      },
      "source": [
        "3. Write a `verifyStack()` function that will take in `my_stack` and check if its format has been followed `(10 points)`\n",
        "\n",
        "- Return **True** if the format has been followed\n",
        "- Return **False** if the format was not followed\n",
        "- Verify the format by checking the contents of **my_stack** with **name_stack** and **num_stack**\n",
        "\n",
        "    **Expected Output:**\n",
        "\n",
        "    my_stack = [1, E, L, I, Z, E, R, 6]\n",
        "\n",
        "    verifyStack(my_stack)\n",
        "\n",
        "    True\n",
        "\n",
        "    my_stack = [1, S, L, I, Z, E, R, 7]\n",
        "\n",
        "    verifyStack(my_stack)\n",
        "\n",
        "    False"
      ]
    },
    {
      "cell_type": "code",
      "execution_count": 607,
      "metadata": {
        "id": "RdANSxD0FehU"
      },
      "outputs": [],
      "source": [
        "# put your answer here\n",
        "def verifyStack(my_stack, name_stack, num_stack):\n",
        "    if check_empty(my_stack):\n",
        "        return False\n",
        "\n",
        "    lastdigit_my_stack = int(pop(my_stack))\n",
        "    lastdigit_num_stack = int(pop(num_stack))\n",
        "\n",
        "    if lastdigit_my_stack != lastdigit_num_stack:\n",
        "        return False\n",
        "    \n",
        "    while not check_empty(name_stack):\n",
        "        if pop(my_stack) != pop(name_stack):\n",
        "            return False\n",
        "        \n",
        "    return True"
      ]
    },
    {
      "cell_type": "code",
      "execution_count": 608,
      "metadata": {},
      "outputs": [
        {
          "name": "stdout",
          "output_type": "stream",
          "text": [
            "True\n"
          ]
        }
      ],
      "source": [
        "verify = verifyStack(my_stack, name_stack, num_stack)\n",
        "print(verify)"
      ]
    },
    {
      "cell_type": "markdown",
      "metadata": {
        "id": "UC5C64B2FehU"
      },
      "source": [
        "## Queue"
      ]
    },
    {
      "cell_type": "code",
      "execution_count": 609,
      "metadata": {
        "id": "NJJ0j0LHFehU"
      },
      "outputs": [],
      "source": [
        "class Queue:\n",
        "    def __init__(self):\n",
        "        self.queue = []\n",
        "\n",
        "    # Add an element\n",
        "    def enqueue(self, item):\n",
        "        self.queue.append(item)\n",
        "\n",
        "    # Remove an element\n",
        "    def dequeue(self):\n",
        "        if len(self.queue) < 1:\n",
        "            return None\n",
        "        return self.queue.pop(0)\n",
        "\n",
        "    # Display  the queue\n",
        "    def display(self):\n",
        "        print(self.queue)\n",
        "\n",
        "    def size(self):\n",
        "        return len(self.queue)\n",
        "\n",
        "    def peek(self):\n",
        "        return self.queue[0]"
      ]
    },
    {
      "cell_type": "markdown",
      "metadata": {
        "id": "80OekpbeFehV"
      },
      "source": [
        "**Instructions** ❗️❗️\n",
        "\n",
        "Use the pre-defined queue class/functions to create a Queue"
      ]
    },
    {
      "cell_type": "markdown",
      "metadata": {
        "id": "_Hf0OP5cFehV"
      },
      "source": [
        "1. Create a simple queue named **num_queue** `(5 points)`\n",
        "\n",
        "- **num_queue** should contain all digits of your student number.\n",
        "\n",
        "    **Expected Output:**\n",
        "\n",
        "    print(num_queue)\n",
        "\n",
        "    [2,0,2,2,1,2,3,4,5,6]"
      ]
    },
    {
      "cell_type": "code",
      "execution_count": 610,
      "metadata": {
        "id": "_mgmE4ArFehV"
      },
      "outputs": [
        {
          "name": "stdout",
          "output_type": "stream",
          "text": [
            "['2', '0', '2', '2', '1', '0', '4', '0', '1', '9']\n"
          ]
        }
      ],
      "source": [
        "# put your answer here\n",
        "# student_number = [2,0,2,2,1,0,4,0,1,9]\n",
        "\n",
        "num_queue = Queue()\n",
        "\n",
        "for i in range(len(student_number)):\n",
        "    num_queue.enqueue(str(student_number[i]))\n",
        "\n",
        "num_queue.display()"
      ]
    },
    {
      "cell_type": "markdown",
      "metadata": {
        "id": "1pHG8t6DFehV"
      },
      "source": [
        "2. Write a `getMax()` or `getMin()` function for **num_queue** `(5 points)`\n",
        "\n",
        "- If your student number ends with an odd number, create a `getMax()` function that will return the largest number in **num_queue**\n",
        "- If your student number ends with an even number, create a `getMin()` function that will return the lowest number in **num_queue**\n",
        "\n",
        "    **Expected Output for getMax():**\n",
        "\n",
        "    getMax(num_queue)\n",
        "\n",
        "    6\n",
        "\n",
        "    **Expected Output for getMin():**\n",
        "\n",
        "    getMin(num_queue)\n",
        "\n",
        "    0"
      ]
    },
    {
      "cell_type": "code",
      "execution_count": 611,
      "metadata": {
        "id": "itj2U610FehV"
      },
      "outputs": [],
      "source": [
        "# put your answer here\n",
        "# student_number = [2,0,2,2,1,0,4,0,1,9]\n",
        "\n",
        "def getMax(num_queue):\n",
        "    max_number = num_queue.dequeue()\n",
        "\n",
        "    while num_queue.size() > 0:\n",
        "        num = num_queue.dequeue()\n",
        "        max_number = max(max_number, num)\n",
        "\n",
        "    return max_number\n"
      ]
    },
    {
      "cell_type": "code",
      "execution_count": 612,
      "metadata": {},
      "outputs": [
        {
          "name": "stdout",
          "output_type": "stream",
          "text": [
            "9\n"
          ]
        }
      ],
      "source": [
        "largest_number = getMax(num_queue)\n",
        "print(largest_number)"
      ]
    },
    {
      "cell_type": "markdown",
      "metadata": {
        "id": "YkgmP6GwFehV"
      },
      "source": [
        "3. Write a `getOdd()` or `getEven()` function for  **num_queue** `(5 points)`\n",
        "\n",
        "- If your student number ends with an **odd number**, create a `getOdd()` function that will return all odd numbers in **num_queue**\n",
        "- If your student number ends with an **even number**, create a `getEven()` function that will return all even numbers in **num_queue**\n",
        "\n",
        "    **Expected Output for getOdd():**\n",
        "\n",
        "    getOdd(num_queue)\n",
        "\n",
        "    [1, 3, 5]\n",
        "\n",
        "    **Expected Output for getEven():**\n",
        "\n",
        "    getEven(num_queue)\n",
        "\n",
        "    [0, 2, 4, 6]"
      ]
    },
    {
      "cell_type": "code",
      "execution_count": 613,
      "metadata": {
        "id": "2Bc7E1zNFehV"
      },
      "outputs": [],
      "source": [
        "# put your answer here\n",
        "# student_number = [2,0,2,2,1,0,4,0,1,9]\n",
        "\n",
        "def getOdd(num_queue):\n",
        "    odd_numbers = []\n",
        "\n",
        "    while num_queue.size() > 0:\n",
        "        num = num_queue.dequeue()\n",
        "        if num % 2 != 0:\n",
        "            odd_numbers.append(num)\n",
        "    \n",
        "    return odd_numbers"
      ]
    },
    {
      "cell_type": "code",
      "execution_count": 614,
      "metadata": {},
      "outputs": [
        {
          "name": "stdout",
          "output_type": "stream",
          "text": [
            "[1, 1, 9]\n"
          ]
        }
      ],
      "source": [
        "for num in student_number:\n",
        "    num_queue.enqueue(num)\n",
        "\n",
        "odd_numbers = getOdd(num_queue)\n",
        "print(odd_numbers)"
      ]
    },
    {
      "cell_type": "markdown",
      "metadata": {
        "id": "kuzWF5g4FehV"
      },
      "source": [
        "4. Write a `removeDup()` function that will remove all duplicates in **num_queue** `(5 points)`\n",
        "\n",
        "    **Expected Output:**\n",
        "\n",
        "    removeDup(num_queue)\n",
        "\n",
        "    [2,0,1,3,4,5,6]"
      ]
    },
    {
      "cell_type": "code",
      "execution_count": 615,
      "metadata": {
        "id": "I8LeQP8MFehY"
      },
      "outputs": [],
      "source": [
        "# put your answer here\n",
        "\n",
        "def removeDup(num_queue):\n",
        "    well_defined_elements = set()\n",
        "\n",
        "    new_queue = Queue()\n",
        "\n",
        "    while num_queue.size() > 0:\n",
        "        num = num_queue.dequeue()\n",
        "\n",
        "        if num not in well_defined_elements:\n",
        "            well_defined_elements.add(num)\n",
        "            new_queue.enqueue(num)\n",
        "\n",
        "    return new_queue"
      ]
    },
    {
      "cell_type": "code",
      "execution_count": 616,
      "metadata": {},
      "outputs": [
        {
          "name": "stdout",
          "output_type": "stream",
          "text": [
            "[2, 0, 1, 4, 9]\n"
          ]
        }
      ],
      "source": [
        "for num in student_number:\n",
        "    num_queue.enqueue(num)\n",
        "\n",
        "new_queue = removeDup(num_queue)\n",
        "\n",
        "new_queue.display()"
      ]
    },
    {
      "cell_type": "markdown",
      "metadata": {
        "id": "LVfZTh8YFehZ"
      },
      "source": [
        "## Sort"
      ]
    },
    {
      "cell_type": "markdown",
      "metadata": {
        "id": "bm9lonfzFehZ"
      },
      "source": [
        "**Instructions** ❗️❗️\n",
        "\n",
        "Use the any sorting algoritms"
      ]
    },
    {
      "cell_type": "markdown",
      "metadata": {
        "id": "EJTlxhEdFehZ"
      },
      "source": [
        "1. Using any sorting algorithm, sort the **last 6 digits** of your student number in ascending order `(5 points)`\n",
        "\n",
        "    **Example:**\n",
        "\n",
        "    student_number = [2,0,2,2,6,2,5,1,3,4]\n",
        "\n",
        "    **Expected Output:**\n",
        "\n",
        "    print(student_number)\n",
        "\n",
        "    [2,0,2,2,1,2,3,4,5,6]\n"
      ]
    },
    {
      "cell_type": "code",
      "execution_count": 649,
      "metadata": {
        "id": "MkZKfveOFehZ"
      },
      "outputs": [],
      "source": [
        "# put your answer here\n",
        "# student_number = [2,0,2,2,1,0,4,0,1,9]\n",
        "\n",
        "def insertionSort(array):\n",
        "\n",
        "    for step in range(1, len(array)):\n",
        "        key = array[step]\n",
        "        j = step - 1\n",
        "        \n",
        "        # Compare key with each element on the left of it until an element smaller than it is found\n",
        "        # For descending order, change key<array[j] to key>array[j].        \n",
        "        while j >= 0 and key < array[j]:\n",
        "            array[j + 1] = array[j]\n",
        "            j = j - 1\n",
        "        \n",
        "        # Place key at after the element just smaller than it.\n",
        "        array[j + 1] = key"
      ]
    },
    {
      "cell_type": "code",
      "execution_count": 667,
      "metadata": {},
      "outputs": [
        {
          "name": "stdout",
          "output_type": "stream",
          "text": [
            "[2, 0, 2, 2, 0, 0, 1, 1, 4, 9]\n"
          ]
        }
      ],
      "source": [
        "# BRUTE FORCE IF EVER NA PWEDE HUHUHUUHU\n",
        "\n",
        "stud_number = [2,0,2,2,1,0,4,0,1,9]\n",
        "stud_number_sliced = stud_number[4:]\n",
        "insertionSort(stud_number_sliced)\n",
        "\n",
        "new_stud_number = stud_number[:4]\n",
        "new_stud_number.extend(stud_number_sliced)\n",
        "print(new_stud_number)"
      ]
    },
    {
      "cell_type": "markdown",
      "metadata": {
        "id": "sC2JZRZMFehZ"
      },
      "source": [
        "2. Using your student_number, separately sort the even numbers in **increasing order** and the odd numbers in **decreasing order** `(15 points)`\n",
        "\n",
        "    **Example:**\n",
        "\n",
        "    student_number = [2,0,2,2,1,2,3,4,5,6]\n",
        "\n",
        "    **Expected Output:**\n",
        "\n",
        "    print(student_number)\n",
        "\n",
        "    [0,2,2,2,2,4,6,5,3,1]"
      ]
    },
    {
      "cell_type": "code",
      "execution_count": 665,
      "metadata": {
        "id": "hWOh_ohcFehZ"
      },
      "outputs": [],
      "source": [
        "# put your answer here\n",
        "def sortEvenOdd(array):\n",
        "    even_numbers = [num for num in array if num % 2 == 0]\n",
        "    odd_numbers = [num for num in array if num % 2 != 0]\n",
        "\n",
        "    insertionSort(even_numbers)\n",
        "    insertionSort(odd_numbers)\n",
        "    \n",
        "    odd_numbers.reverse()\n",
        "\n",
        "    i = j = 0\n",
        "    for idx in range(len(array)):\n",
        "        if array[idx] % 2 == 0:\n",
        "            array[idx] = even_numbers[i]\n",
        "            i += 1\n",
        "        else:\n",
        "            array[idx] = odd_numbers[j]\n",
        "            j += 1     "
      ]
    },
    {
      "cell_type": "code",
      "execution_count": 666,
      "metadata": {},
      "outputs": [
        {
          "name": "stdout",
          "output_type": "stream",
          "text": [
            "[0, 0, 0, 2, 9, 2, 2, 4, 1, 1]\n"
          ]
        }
      ],
      "source": [
        "sortEvenOdd(stud_number)\n",
        "print(stud_number)"
      ]
    }
  ],
  "metadata": {
    "colab": {
      "include_colab_link": true,
      "provenance": []
    },
    "kernelspec": {
      "display_name": "Python 3",
      "language": "python",
      "name": "python3"
    },
    "language_info": {
      "codemirror_mode": {
        "name": "ipython",
        "version": 3
      },
      "file_extension": ".py",
      "mimetype": "text/x-python",
      "name": "python",
      "nbconvert_exporter": "python",
      "pygments_lexer": "ipython3",
      "version": "3.10.12"
    },
    "orig_nbformat": 4
  },
  "nbformat": 4,
  "nbformat_minor": 0
}
